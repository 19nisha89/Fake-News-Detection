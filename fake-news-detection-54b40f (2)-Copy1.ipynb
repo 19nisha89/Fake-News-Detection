{
 "cells": [
  {
   "cell_type": "markdown",
   "metadata": {},
   "source": [
    "\n"
   ]
  },
  {
   "cell_type": "markdown",
   "metadata": {},
   "source": [
    "#  Importing the Dependencieses\n"
   ]
  },
  {
   "cell_type": "code",
   "execution_count": 5,
   "metadata": {},
   "outputs": [
    {
     "name": "stdout",
     "output_type": "stream",
     "text": [
      "Requirement already satisfied: nltk in /Users/avantikadeshmukh/anaconda3/envs/env_1/lib/python3.11/site-packages (3.8.1)\n",
      "Requirement already satisfied: click in /Users/avantikadeshmukh/anaconda3/envs/env_1/lib/python3.11/site-packages (from nltk) (8.1.7)\n",
      "Requirement already satisfied: joblib in /Users/avantikadeshmukh/anaconda3/envs/env_1/lib/python3.11/site-packages (from nltk) (1.3.2)\n",
      "Requirement already satisfied: regex>=2021.8.3 in /Users/avantikadeshmukh/anaconda3/envs/env_1/lib/python3.11/site-packages (from nltk) (2023.10.3)\n",
      "Requirement already satisfied: tqdm in /Users/avantikadeshmukh/anaconda3/envs/env_1/lib/python3.11/site-packages (from nltk) (4.66.1)\n",
      "Collecting tpot\n",
      "  Obtaining dependency information for tpot from https://files.pythonhosted.org/packages/7b/a7/0060d028906ecd058b1331c3ce6f3f19ba03464b21dc9abbbaf66b0a1091/TPOT-0.12.1-py3-none-any.whl.metadata\n",
      "  Downloading TPOT-0.12.1-py3-none-any.whl.metadata (2.0 kB)\n",
      "Requirement already satisfied: numpy>=1.16.3 in /Users/avantikadeshmukh/anaconda3/envs/env_1/lib/python3.11/site-packages (from tpot) (1.26.0)\n",
      "Requirement already satisfied: scipy>=1.3.1 in /Users/avantikadeshmukh/anaconda3/envs/env_1/lib/python3.11/site-packages (from tpot) (1.11.3)\n",
      "Requirement already satisfied: scikit-learn>=0.22.0 in /Users/avantikadeshmukh/anaconda3/envs/env_1/lib/python3.11/site-packages (from tpot) (1.3.1)\n",
      "Collecting deap>=1.2 (from tpot)\n",
      "  Downloading deap-1.4.1.tar.gz (1.1 MB)\n",
      "\u001b[2K     \u001b[90m━━━━━━━━━━━━━━━━━━━━━━━━━━━━━━━━━━━━━━━━\u001b[0m \u001b[32m1.1/1.1 MB\u001b[0m \u001b[31m1.3 MB/s\u001b[0m eta \u001b[36m0:00:00\u001b[0m00:01\u001b[0m0:00:01\u001b[0m\n",
      "\u001b[?25h  Preparing metadata (setup.py) ... \u001b[?25ldone\n",
      "\u001b[?25hCollecting update-checker>=0.16 (from tpot)\n",
      "  Downloading update_checker-0.18.0-py3-none-any.whl (7.0 kB)\n",
      "Requirement already satisfied: tqdm>=4.36.1 in /Users/avantikadeshmukh/anaconda3/envs/env_1/lib/python3.11/site-packages (from tpot) (4.66.1)\n",
      "Collecting stopit>=1.1.1 (from tpot)\n",
      "  Downloading stopit-1.1.2.tar.gz (18 kB)\n",
      "  Preparing metadata (setup.py) ... \u001b[?25ldone\n",
      "\u001b[?25hRequirement already satisfied: pandas>=0.24.2 in /Users/avantikadeshmukh/anaconda3/envs/env_1/lib/python3.11/site-packages (from tpot) (2.1.1)\n",
      "Requirement already satisfied: joblib>=0.13.2 in /Users/avantikadeshmukh/anaconda3/envs/env_1/lib/python3.11/site-packages (from tpot) (1.3.2)\n",
      "Collecting xgboost>=1.1.0 (from tpot)\n",
      "  Obtaining dependency information for xgboost>=1.1.0 from https://files.pythonhosted.org/packages/76/e8/260752c1bc8dc856b27cfefaa3fca29ba02a15f649bbf6e9c15ed54e5480/xgboost-2.0.2-py3-none-macosx_12_0_arm64.whl.metadata\n",
      "  Downloading xgboost-2.0.2-py3-none-macosx_12_0_arm64.whl.metadata (2.0 kB)\n",
      "Requirement already satisfied: python-dateutil>=2.8.2 in /Users/avantikadeshmukh/anaconda3/envs/env_1/lib/python3.11/site-packages (from pandas>=0.24.2->tpot) (2.8.2)\n",
      "Requirement already satisfied: pytz>=2020.1 in /Users/avantikadeshmukh/anaconda3/envs/env_1/lib/python3.11/site-packages (from pandas>=0.24.2->tpot) (2023.3.post1)\n",
      "Requirement already satisfied: tzdata>=2022.1 in /Users/avantikadeshmukh/anaconda3/envs/env_1/lib/python3.11/site-packages (from pandas>=0.24.2->tpot) (2023.3)\n",
      "Requirement already satisfied: threadpoolctl>=2.0.0 in /Users/avantikadeshmukh/anaconda3/envs/env_1/lib/python3.11/site-packages (from scikit-learn>=0.22.0->tpot) (3.2.0)\n",
      "Requirement already satisfied: requests>=2.3.0 in /Users/avantikadeshmukh/anaconda3/envs/env_1/lib/python3.11/site-packages (from update-checker>=0.16->tpot) (2.31.0)\n",
      "Requirement already satisfied: six>=1.5 in /Users/avantikadeshmukh/anaconda3/envs/env_1/lib/python3.11/site-packages (from python-dateutil>=2.8.2->pandas>=0.24.2->tpot) (1.16.0)\n",
      "Requirement already satisfied: charset-normalizer<4,>=2 in /Users/avantikadeshmukh/anaconda3/envs/env_1/lib/python3.11/site-packages (from requests>=2.3.0->update-checker>=0.16->tpot) (3.2.0)\n",
      "Requirement already satisfied: idna<4,>=2.5 in /Users/avantikadeshmukh/anaconda3/envs/env_1/lib/python3.11/site-packages (from requests>=2.3.0->update-checker>=0.16->tpot) (3.4)\n",
      "Requirement already satisfied: urllib3<3,>=1.21.1 in /Users/avantikadeshmukh/anaconda3/envs/env_1/lib/python3.11/site-packages (from requests>=2.3.0->update-checker>=0.16->tpot) (2.0.5)\n",
      "Requirement already satisfied: certifi>=2017.4.17 in /Users/avantikadeshmukh/anaconda3/envs/env_1/lib/python3.11/site-packages (from requests>=2.3.0->update-checker>=0.16->tpot) (2023.7.22)\n",
      "Downloading TPOT-0.12.1-py3-none-any.whl (87 kB)\n",
      "\u001b[2K   \u001b[90m━━━━━━━━━━━━━━━━━━━━━━━━━━━━━━━━━━━━━━━━\u001b[0m \u001b[32m87.4/87.4 kB\u001b[0m \u001b[31m14.5 MB/s\u001b[0m eta \u001b[36m0:00:00\u001b[0m\n",
      "\u001b[?25hDownloading xgboost-2.0.2-py3-none-macosx_12_0_arm64.whl (1.9 MB)\n",
      "\u001b[2K   \u001b[90m━━━━━━━━━━━━━━━━━━━━━━━━━━━━━━━━━━━━━━━━\u001b[0m \u001b[32m1.9/1.9 MB\u001b[0m \u001b[31m21.9 MB/s\u001b[0m eta \u001b[36m0:00:00\u001b[0m00:01\u001b[0m00:01\u001b[0m\n",
      "\u001b[?25hBuilding wheels for collected packages: deap, stopit\n",
      "  Building wheel for deap (setup.py) ... \u001b[?25ldone\n",
      "\u001b[?25h  Created wheel for deap: filename=deap-1.4.1-cp311-cp311-macosx_11_0_arm64.whl size=103887 sha256=61767073337d44aa03db8cac452cc29f23da64e07c666de9c950a9329c386f4a\n",
      "  Stored in directory: /Users/avantikadeshmukh/Library/Caches/pip/wheels/f8/64/b8/65eacfbff3024ae2e2beb22e691d5c8abb89fbd863b8049b5f\n",
      "  Building wheel for stopit (setup.py) ... \u001b[?25ldone\n",
      "\u001b[?25h  Created wheel for stopit: filename=stopit-1.1.2-py3-none-any.whl size=11937 sha256=172eacfc7cdfa0404cc1cb7f7ed068ddbb336929355784be7f54c8f699376a58\n",
      "  Stored in directory: /Users/avantikadeshmukh/Library/Caches/pip/wheels/da/77/2d/adbc56bc4db95ad80c6d4e71cd69e2d9d122174904342e3f7f\n",
      "Successfully built deap stopit\n",
      "Installing collected packages: stopit, deap, xgboost, update-checker, tpot\n",
      "Successfully installed deap-1.4.1 stopit-1.1.2 tpot-0.12.1 update-checker-0.18.0 xgboost-2.0.2\n"
     ]
    }
   ],
   "source": [
    "!pip install nltk\n",
    "!pip install tpot\n"
   ]
  },
  {
   "cell_type": "markdown",
   "metadata": {},
   "source": [
    "**!pip install nltk**\n",
    "- NLTK (Natural Language Toolkit) \n",
    "- to work w human data\n",
    "- provides interfaces such as tokenization, stemming, lemmatization, parsing, and more\n",
    "\n",
    "    **Tokenization:** Breaking text into words or sentences. \n",
    "\n",
    "    **Stemming and Lemmatization:** Reducing words to their root forms. For instance, 'running', 'ran', and 'runs' might all be stemmed to 'run'.\n",
    "\n",
    "    **Stopword Removal:** Removing common words that usually don’t contribute much to the meaning of the text (like 'the', 'is', 'are').\n",
    "\n",
    "    **Part-of-Speech Tagging:** Identifying the parts of speech (nouns, verbs, adjectives, etc.) in a sentence.\n",
    "\n",
    "    **Named Entity Recognition (NER):** Identifying and classifying named entities in text, such as names of persons, organizations, locations, etc.\n",
    "\n",
    "    **Sentiment Analysis:** Determining the sentiment (positive, negative, neutral) of a piece of text.\n",
    "    \n",
    "**!pip install tpot**\n",
    "- Tree-based Pipeline Optimization Tool\n",
    "-  It employs genetic programming to explore a variety of machine learning models, preprocessing techniques, feature selection, and hyperparameter tuning to identify the best performing pipeline for a given dataset.\n",
    "    \n",
    "    **Automated Machine Learning:** tries various combinations of algorithms and preprocessing steps to find the best model for your data.\n",
    "\n",
    "    **Pipeline Optimization:** It explores a wide range of possible pipelines and hyperparameters using genetic programming, seeking the best-performing combination of steps for your data without requiring manual intervention.\n",
    "\n",
    "    **Time-Saving:** TPOT can save significant time by automating the tedious tasks of hyperparameter tuning and model selection, allowing data scientists to focus more on data analysis and interpretation.\n",
    "\n",
    "    **Model Selection:** It evaluates multiple machine learning algorithms and their configurations to find the optimal model for the given dataset, thereby improving model performance.\n",
    "\n",
    "    **Cross-Validation:** to ensure that the discovered pipelines generalize well to new data.\n"
   ]
  },
  {
   "cell_type": "code",
   "execution_count": 6,
   "metadata": {
    "execution": {
     "iopub.execute_input": "2023-03-14T18:19:48.89407Z",
     "iopub.status.busy": "2023-03-14T18:19:48.893649Z",
     "iopub.status.idle": "2023-03-14T18:19:50.537173Z",
     "shell.execute_reply": "2023-03-14T18:19:50.536115Z",
     "shell.execute_reply.started": "2023-03-14T18:19:48.894014Z"
    }
   },
   "outputs": [
    {
     "name": "stderr",
     "output_type": "stream",
     "text": [
      "/Users/avantikadeshmukh/anaconda3/envs/env_1/lib/python3.11/site-packages/tpot/builtins/__init__.py:36: UserWarning: Warning: optional dependency `torch` is not available. - skipping import of NN models.\n",
      "  warnings.warn(\"Warning: optional dependency `torch` is not available. - skipping import of NN models.\")\n"
     ]
    }
   ],
   "source": [
    "import pandas as pd\n",
    "import numpy as np\n",
    "import re\n",
    "from matplotlib import pyplot as plt\n",
    "import seaborn as sns\n",
    "%matplotlib inline\n",
    "\n",
    "import nltk\n",
    "from nltk.corpus import stopwords\n",
    "from nltk.stem.porter import PorterStemmer\n",
    "\n",
    "from sklearn.feature_extraction.text import TfidfVectorizer\n",
    "from sklearn.feature_extraction.text import CountVectorizer\n",
    "from sklearn.feature_extraction.text import TfidfTransformer\n",
    "\n",
    "from sklearn.model_selection import train_test_split, cross_val_score\n",
    "from sklearn.metrics import confusion_matrix, classification_report, roc_curve, auc, RocCurveDisplay\n",
    "from sklearn.linear_model import LogisticRegression\n",
    "from sklearn.ensemble import RandomForestClassifier\n",
    "from sklearn.tree import DecisionTreeClassifier\n",
    "from sklearn.neighbors import KNeighborsClassifier\n",
    "from sklearn.svm import SVC\n",
    "from sklearn.naive_bayes import MultinomialNB\n",
    "\n",
    "from tpot import TPOTClassifier\n",
    "\n",
    "\n",
    "\n",
    "import warnings\n",
    "warnings.filterwarnings(\"ignore\")\n"
   ]
  },
  {
   "cell_type": "markdown",
   "metadata": {},
   "source": [
    "1. **pandas**:\n",
    "   - It provides data structures and functions necessary to work with structured data effectively, particularly in the form of data frames.\n",
    "\n",
    "2. **numpy**:\n",
    "   - for numerical computations\n",
    "   - provides support for large, multi-dimensional arrays and matrices, along with a collection of mathematical functions to operate on these arrays.\n",
    "\n",
    "3. **re**:\n",
    "   - regular expression library. \n",
    "   - allowing pattern matching and manipulation of strings based on specific search criteria.\n",
    "\n",
    "4. **matplotlib and pyplot**:\n",
    "   - Matplotlib - plotting library. \n",
    "   - Pyplot is a module within Matplotlib that provides a MATLAB-like interface for creating various types of plots and visualizations.\n",
    "\n",
    "5. **seaborn**:\n",
    "   - data visualization library based on Matplotlib. \n",
    "   - high-level functions for creating attractive and informative statistical graphics.\n",
    "\n",
    "6. **nltk**:\n",
    "\n",
    "7. **nltk.corpus.stopwords**:\n",
    "   - contains a collection of common words (e.g., \"the,\" \"is,\" \"and\") that are often filtered out during text preprocessing in NLP tasks as they generally don't carry much meaning.\n",
    "\n",
    "8. **nltk.stem.porter**:\n",
    "   - stemming algorithm used to reduce words to their root or base form. It's a common technique in text preprocessing to normalize words.\n",
    "\n",
    "9. **scikit-learn**:\n",
    "   - tools for data mining and analysis, including various machine learning algorithms, preprocessing techniques, and evaluation metrics.\n",
    "\n",
    "10. **tpot**:\n",
    "    - searches and tunes models and preprocessing steps to find the best pipeline for a given dataset.\n",
    "\n",
    "11. **warnings**:\n",
    "    - to handle warnings raised by code.\n",
    "\n",
    "Sure, here's an explanation of each of the classes and methods being imported from scikit-learn and TPOT:\n",
    "\n",
    "1. **`TfidfVectorizer`**:\n",
    "   - convert a collection of raw documents (text) into a matrix of TF-IDF features. \n",
    "   - transforms text into numerical representations suitable for machine learning algorithms by computing term frequency-inverse document frequency.\n",
    "\n",
    "2. **`CountVectorizer`**:\n",
    "   - convert text documents into a matrix of token counts. \n",
    "   - counts the occurrences of each word in the text corpus and converts it into numerical features.\n",
    "\n",
    "3. **`TfidfTransformer`**:\n",
    "   - transforms the count matrix created by `CountVectorizer` or `TfidfVectorizer` into a normalized TF or TF-IDF representation\n",
    "\n",
    "4. **`train_test_split`**:\n",
    "   - method for splitting datasets into two subsets: one for training a machine learning model and the other for testing its performance.\n",
    "\n",
    "5. **`cross_val_score`**:\n",
    "   - evaluating the performance of a machine learning model using cross-validation. \n",
    "   - provides scores for each fold of the cross-validation process.\n",
    "\n",
    "6. **`confusion_matrix`**:\n",
    "   - shows the counts of true positive, true negative, false positive, and false negative predictions made by a classification model.\n",
    "\n",
    "7. **`classification_report`**:\n",
    "   - generates a comprehensive report containing various metrics (such as precision, recall, and F1-score) for evaluating the performance of a classification model.\n",
    "\n",
    "8. **`roc_curve`** and **`RocCurveDisplay`**:\n",
    "   - Receiver Operating Characteristic (ROC) curve, which shows the trade-off between true positive rate and false positive rate at various threshold settings. \n",
    "   - `RocCurveDisplay` helps in visualizing the ROC curve.\n",
    "\n",
    "9. **`LogisticRegression`**:\n",
    "   - linear classification algorithm used for binary classification problems. \n",
    "   - models the probability of the input belonging to a particular class.\n",
    "\n",
    "10. **`RandomForestClassifier`**:\n",
    "    - ensemble learning method that constructs multiple decision trees during training and outputs the class that is the mode of the classes of the individual trees.\n",
    "\n",
    "11. **`DecisionTreeClassifier`**:\n",
    "    - tree-based classification algorithm that splits the data into branches based on features to predict the target variable.\n",
    "\n",
    "12. **`KNeighborsClassifier`**:\n",
    "    - instance-based learning or lazy learning. \n",
    "    - predicts the class of a data point by considering its neighboring data points.\n",
    "\n",
    "13. **`SVC`** (Support Vector Classifier):\n",
    "    - supervised learning model that analyzes data for classification and regression analysis. \n",
    "    - works by finding the hyperplane that best separates the classes.\n",
    "\n",
    "14. **`MultinomialNB`** (Multinomial Naive Bayes):\n",
    "    - Naive Bayes classifier suitable for classification with discrete features. \n",
    "    - used in text classification tasks.\n",
    "\n",
    "15. **`TPOTClassifier`**:\n",
    "    - automated machine learning tool that optimizes machine learning pipelines using genetic programming. \n",
    "    - searches and tunes models and preprocessing steps to find the best pipeline for a given dataset."
   ]
  },
  {
   "cell_type": "code",
   "execution_count": 7,
   "metadata": {
    "execution": {
     "iopub.execute_input": "2023-03-14T18:19:50.540076Z",
     "iopub.status.busy": "2023-03-14T18:19:50.539199Z",
     "iopub.status.idle": "2023-03-14T18:19:50.586569Z",
     "shell.execute_reply": "2023-03-14T18:19:50.585431Z",
     "shell.execute_reply.started": "2023-03-14T18:19:50.540014Z"
    }
   },
   "outputs": [
    {
     "name": "stderr",
     "output_type": "stream",
     "text": [
      "[nltk_data] Downloading package stopwords to\n",
      "[nltk_data]     /Users/avantikadeshmukh/nltk_data...\n",
      "[nltk_data]   Unzipping corpora/stopwords.zip.\n"
     ]
    },
    {
     "data": {
      "text/plain": [
       "True"
      ]
     },
     "execution_count": 7,
     "metadata": {},
     "output_type": "execute_result"
    }
   ],
   "source": [
    "nltk.download('stopwords')"
   ]
  },
  {
   "cell_type": "code",
   "execution_count": 8,
   "metadata": {
    "execution": {
     "iopub.execute_input": "2023-03-14T18:19:50.588985Z",
     "iopub.status.busy": "2023-03-14T18:19:50.588532Z",
     "iopub.status.idle": "2023-03-14T18:19:50.597488Z",
     "shell.execute_reply": "2023-03-14T18:19:50.596084Z",
     "shell.execute_reply.started": "2023-03-14T18:19:50.588944Z"
    }
   },
   "outputs": [
    {
     "name": "stdout",
     "output_type": "stream",
     "text": [
      "['i', 'me', 'my', 'myself', 'we', 'our', 'ours', 'ourselves', 'you', \"you're\", \"you've\", \"you'll\", \"you'd\", 'your', 'yours', 'yourself', 'yourselves', 'he', 'him', 'his', 'himself', 'she', \"she's\", 'her', 'hers', 'herself', 'it', \"it's\", 'its', 'itself', 'they', 'them', 'their', 'theirs', 'themselves', 'what', 'which', 'who', 'whom', 'this', 'that', \"that'll\", 'these', 'those', 'am', 'is', 'are', 'was', 'were', 'be', 'been', 'being', 'have', 'has', 'had', 'having', 'do', 'does', 'did', 'doing', 'a', 'an', 'the', 'and', 'but', 'if', 'or', 'because', 'as', 'until', 'while', 'of', 'at', 'by', 'for', 'with', 'about', 'against', 'between', 'into', 'through', 'during', 'before', 'after', 'above', 'below', 'to', 'from', 'up', 'down', 'in', 'out', 'on', 'off', 'over', 'under', 'again', 'further', 'then', 'once', 'here', 'there', 'when', 'where', 'why', 'how', 'all', 'any', 'both', 'each', 'few', 'more', 'most', 'other', 'some', 'such', 'no', 'nor', 'not', 'only', 'own', 'same', 'so', 'than', 'too', 'very', 's', 't', 'can', 'will', 'just', 'don', \"don't\", 'should', \"should've\", 'now', 'd', 'll', 'm', 'o', 're', 've', 'y', 'ain', 'aren', \"aren't\", 'couldn', \"couldn't\", 'didn', \"didn't\", 'doesn', \"doesn't\", 'hadn', \"hadn't\", 'hasn', \"hasn't\", 'haven', \"haven't\", 'isn', \"isn't\", 'ma', 'mightn', \"mightn't\", 'mustn', \"mustn't\", 'needn', \"needn't\", 'shan', \"shan't\", 'shouldn', \"shouldn't\", 'wasn', \"wasn't\", 'weren', \"weren't\", 'won', \"won't\", 'wouldn', \"wouldn't\"]\n"
     ]
    }
   ],
   "source": [
    "print (stopwords.words('english'))"
   ]
  },
  {
   "cell_type": "markdown",
   "metadata": {},
   "source": [
    "# Exploratory Data Analysis¶\n"
   ]
  },
  {
   "cell_type": "code",
   "execution_count": 11,
   "metadata": {
    "execution": {
     "iopub.execute_input": "2023-03-14T18:19:51.439291Z",
     "iopub.status.busy": "2023-03-14T18:19:51.438259Z",
     "iopub.status.idle": "2023-03-14T18:19:53.588571Z",
     "shell.execute_reply": "2023-03-14T18:19:53.587372Z",
     "shell.execute_reply.started": "2023-03-14T18:19:51.439241Z"
    },
    "scrolled": true
   },
   "outputs": [
    {
     "data": {
      "text/html": [
       "<div>\n",
       "<style scoped>\n",
       "    .dataframe tbody tr th:only-of-type {\n",
       "        vertical-align: middle;\n",
       "    }\n",
       "\n",
       "    .dataframe tbody tr th {\n",
       "        vertical-align: top;\n",
       "    }\n",
       "\n",
       "    .dataframe thead th {\n",
       "        text-align: right;\n",
       "    }\n",
       "</style>\n",
       "<table border=\"1\" class=\"dataframe\">\n",
       "  <thead>\n",
       "    <tr style=\"text-align: right;\">\n",
       "      <th></th>\n",
       "      <th>id</th>\n",
       "      <th>title</th>\n",
       "      <th>author</th>\n",
       "      <th>text</th>\n",
       "      <th>label</th>\n",
       "    </tr>\n",
       "  </thead>\n",
       "  <tbody>\n",
       "    <tr>\n",
       "      <th>0</th>\n",
       "      <td>0</td>\n",
       "      <td>House Dem Aide: We Didn’t Even See Comey’s Let...</td>\n",
       "      <td>Darrell Lucus</td>\n",
       "      <td>House Dem Aide: We Didn’t Even See Comey’s Let...</td>\n",
       "      <td>1</td>\n",
       "    </tr>\n",
       "    <tr>\n",
       "      <th>1</th>\n",
       "      <td>1</td>\n",
       "      <td>FLYNN: Hillary Clinton, Big Woman on Campus - ...</td>\n",
       "      <td>Daniel J. Flynn</td>\n",
       "      <td>Ever get the feeling your life circles the rou...</td>\n",
       "      <td>0</td>\n",
       "    </tr>\n",
       "    <tr>\n",
       "      <th>2</th>\n",
       "      <td>2</td>\n",
       "      <td>Why the Truth Might Get You Fired</td>\n",
       "      <td>Consortiumnews.com</td>\n",
       "      <td>Why the Truth Might Get You Fired October 29, ...</td>\n",
       "      <td>1</td>\n",
       "    </tr>\n",
       "    <tr>\n",
       "      <th>3</th>\n",
       "      <td>3</td>\n",
       "      <td>15 Civilians Killed In Single US Airstrike Hav...</td>\n",
       "      <td>Jessica Purkiss</td>\n",
       "      <td>Videos 15 Civilians Killed In Single US Airstr...</td>\n",
       "      <td>1</td>\n",
       "    </tr>\n",
       "    <tr>\n",
       "      <th>4</th>\n",
       "      <td>4</td>\n",
       "      <td>Iranian woman jailed for fictional unpublished...</td>\n",
       "      <td>Howard Portnoy</td>\n",
       "      <td>Print \\nAn Iranian woman has been sentenced to...</td>\n",
       "      <td>1</td>\n",
       "    </tr>\n",
       "  </tbody>\n",
       "</table>\n",
       "</div>"
      ],
      "text/plain": [
       "   id                                              title              author  \\\n",
       "0   0  House Dem Aide: We Didn’t Even See Comey’s Let...       Darrell Lucus   \n",
       "1   1  FLYNN: Hillary Clinton, Big Woman on Campus - ...     Daniel J. Flynn   \n",
       "2   2                  Why the Truth Might Get You Fired  Consortiumnews.com   \n",
       "3   3  15 Civilians Killed In Single US Airstrike Hav...     Jessica Purkiss   \n",
       "4   4  Iranian woman jailed for fictional unpublished...      Howard Portnoy   \n",
       "\n",
       "                                                text  label  \n",
       "0  House Dem Aide: We Didn’t Even See Comey’s Let...      1  \n",
       "1  Ever get the feeling your life circles the rou...      0  \n",
       "2  Why the Truth Might Get You Fired October 29, ...      1  \n",
       "3  Videos 15 Civilians Killed In Single US Airstr...      1  \n",
       "4  Print \\nAn Iranian woman has been sentenced to...      1  "
      ]
     },
     "execution_count": 11,
     "metadata": {},
     "output_type": "execute_result"
    }
   ],
   "source": [
    "train_news = pd.read_csv('/Users/avantikadeshmukh/Downloads/fake_news_data/train.csv')\n",
    "train_news.head()"
   ]
  },
  {
   "cell_type": "code",
   "execution_count": 12,
   "metadata": {
    "execution": {
     "iopub.execute_input": "2023-03-14T18:19:53.592394Z",
     "iopub.status.busy": "2023-03-14T18:19:53.591491Z",
     "iopub.status.idle": "2023-03-14T18:19:54.156111Z",
     "shell.execute_reply": "2023-03-14T18:19:54.154513Z",
     "shell.execute_reply.started": "2023-03-14T18:19:53.592362Z"
    },
    "scrolled": true
   },
   "outputs": [
    {
     "data": {
      "text/html": [
       "<div>\n",
       "<style scoped>\n",
       "    .dataframe tbody tr th:only-of-type {\n",
       "        vertical-align: middle;\n",
       "    }\n",
       "\n",
       "    .dataframe tbody tr th {\n",
       "        vertical-align: top;\n",
       "    }\n",
       "\n",
       "    .dataframe thead th {\n",
       "        text-align: right;\n",
       "    }\n",
       "</style>\n",
       "<table border=\"1\" class=\"dataframe\">\n",
       "  <thead>\n",
       "    <tr style=\"text-align: right;\">\n",
       "      <th></th>\n",
       "      <th>id</th>\n",
       "      <th>title</th>\n",
       "      <th>author</th>\n",
       "      <th>text</th>\n",
       "    </tr>\n",
       "  </thead>\n",
       "  <tbody>\n",
       "    <tr>\n",
       "      <th>0</th>\n",
       "      <td>20800</td>\n",
       "      <td>Specter of Trump Loosens Tongues, if Not Purse...</td>\n",
       "      <td>David Streitfeld</td>\n",
       "      <td>PALO ALTO, Calif.  —   After years of scorning...</td>\n",
       "    </tr>\n",
       "    <tr>\n",
       "      <th>1</th>\n",
       "      <td>20801</td>\n",
       "      <td>Russian warships ready to strike terrorists ne...</td>\n",
       "      <td>NaN</td>\n",
       "      <td>Russian warships ready to strike terrorists ne...</td>\n",
       "    </tr>\n",
       "    <tr>\n",
       "      <th>2</th>\n",
       "      <td>20802</td>\n",
       "      <td>#NoDAPL: Native American Leaders Vow to Stay A...</td>\n",
       "      <td>Common Dreams</td>\n",
       "      <td>Videos #NoDAPL: Native American Leaders Vow to...</td>\n",
       "    </tr>\n",
       "    <tr>\n",
       "      <th>3</th>\n",
       "      <td>20803</td>\n",
       "      <td>Tim Tebow Will Attempt Another Comeback, This ...</td>\n",
       "      <td>Daniel Victor</td>\n",
       "      <td>If at first you don’t succeed, try a different...</td>\n",
       "    </tr>\n",
       "    <tr>\n",
       "      <th>4</th>\n",
       "      <td>20804</td>\n",
       "      <td>Keiser Report: Meme Wars (E995)</td>\n",
       "      <td>Truth Broadcast Network</td>\n",
       "      <td>42 mins ago 1 Views 0 Comments 0 Likes 'For th...</td>\n",
       "    </tr>\n",
       "  </tbody>\n",
       "</table>\n",
       "</div>"
      ],
      "text/plain": [
       "      id                                              title  \\\n",
       "0  20800  Specter of Trump Loosens Tongues, if Not Purse...   \n",
       "1  20801  Russian warships ready to strike terrorists ne...   \n",
       "2  20802  #NoDAPL: Native American Leaders Vow to Stay A...   \n",
       "3  20803  Tim Tebow Will Attempt Another Comeback, This ...   \n",
       "4  20804                    Keiser Report: Meme Wars (E995)   \n",
       "\n",
       "                    author                                               text  \n",
       "0         David Streitfeld  PALO ALTO, Calif.  —   After years of scorning...  \n",
       "1                      NaN  Russian warships ready to strike terrorists ne...  \n",
       "2            Common Dreams  Videos #NoDAPL: Native American Leaders Vow to...  \n",
       "3            Daniel Victor  If at first you don’t succeed, try a different...  \n",
       "4  Truth Broadcast Network  42 mins ago 1 Views 0 Comments 0 Likes 'For th...  "
      ]
     },
     "execution_count": 12,
     "metadata": {},
     "output_type": "execute_result"
    }
   ],
   "source": [
    "test_news = pd.read_csv('/Users/avantikadeshmukh/Downloads/test.csv')\n",
    "test_news.head()"
   ]
  },
  {
   "cell_type": "code",
   "execution_count": 13,
   "metadata": {
    "execution": {
     "iopub.execute_input": "2023-03-14T18:19:54.158691Z",
     "iopub.status.busy": "2023-03-14T18:19:54.157863Z",
     "iopub.status.idle": "2023-03-14T18:19:54.166466Z",
     "shell.execute_reply": "2023-03-14T18:19:54.165034Z",
     "shell.execute_reply.started": "2023-03-14T18:19:54.158642Z"
    }
   },
   "outputs": [
    {
     "data": {
      "text/plain": [
       "(20800, 5)"
      ]
     },
     "execution_count": 13,
     "metadata": {},
     "output_type": "execute_result"
    }
   ],
   "source": [
    "train_news.shape #returns a tuple representing the number of rows and columns in the DataFrame."
   ]
  },
  {
   "cell_type": "code",
   "execution_count": 14,
   "metadata": {
    "execution": {
     "iopub.execute_input": "2023-03-14T18:19:54.172845Z",
     "iopub.status.busy": "2023-03-14T18:19:54.16925Z",
     "iopub.status.idle": "2023-03-14T18:19:54.193942Z",
     "shell.execute_reply": "2023-03-14T18:19:54.192019Z",
     "shell.execute_reply.started": "2023-03-14T18:19:54.172807Z"
    }
   },
   "outputs": [
    {
     "data": {
      "text/plain": [
       "(5200, 4)"
      ]
     },
     "execution_count": 14,
     "metadata": {},
     "output_type": "execute_result"
    }
   ],
   "source": [
    "test_news.shape\n"
   ]
  },
  {
   "cell_type": "markdown",
   "metadata": {},
   "source": [
    "- stropwords are those words which dosen't add much value to a paragraph or text can be the words such as (the, a , you , where, what ,when, etc...)\n",
    "\n"
   ]
  },
  {
   "cell_type": "code",
   "execution_count": 15,
   "metadata": {
    "execution": {
     "iopub.execute_input": "2023-03-14T18:19:54.198702Z",
     "iopub.status.busy": "2023-03-14T18:19:54.197639Z",
     "iopub.status.idle": "2023-03-14T18:19:54.218271Z",
     "shell.execute_reply": "2023-03-14T18:19:54.217345Z",
     "shell.execute_reply.started": "2023-03-14T18:19:54.19866Z"
    },
    "scrolled": true
   },
   "outputs": [
    {
     "data": {
      "text/plain": [
       "id           0\n",
       "title      558\n",
       "author    1957\n",
       "text        39\n",
       "label        0\n",
       "dtype: int64"
      ]
     },
     "execution_count": 15,
     "metadata": {},
     "output_type": "execute_result"
    }
   ],
   "source": [
    "train_news.isnull().sum()   #count the number of missing values in each column\n"
   ]
  },
  {
   "cell_type": "code",
   "execution_count": 16,
   "metadata": {
    "execution": {
     "iopub.execute_input": "2023-03-14T18:19:54.220758Z",
     "iopub.status.busy": "2023-03-14T18:19:54.220079Z",
     "iopub.status.idle": "2023-03-14T18:19:54.232117Z",
     "shell.execute_reply": "2023-03-14T18:19:54.231237Z",
     "shell.execute_reply.started": "2023-03-14T18:19:54.22072Z"
    },
    "scrolled": true
   },
   "outputs": [
    {
     "data": {
      "text/plain": [
       "id          0\n",
       "title     122\n",
       "author    503\n",
       "text        7\n",
       "dtype: int64"
      ]
     },
     "execution_count": 16,
     "metadata": {},
     "output_type": "execute_result"
    }
   ],
   "source": [
    "test_news.isnull().sum()\n"
   ]
  },
  {
   "cell_type": "markdown",
   "metadata": {},
   "source": [
    "# Data Pre-processing\n"
   ]
  },
  {
   "cell_type": "code",
   "execution_count": 17,
   "metadata": {
    "execution": {
     "iopub.execute_input": "2023-03-14T18:19:54.346788Z",
     "iopub.status.busy": "2023-03-14T18:19:54.346362Z",
     "iopub.status.idle": "2023-03-14T18:19:54.375081Z",
     "shell.execute_reply": "2023-03-14T18:19:54.374108Z",
     "shell.execute_reply.started": "2023-03-14T18:19:54.34675Z"
    }
   },
   "outputs": [],
   "source": [
    "# replacing the null values with empty string\n",
    "train_news = train_news.fillna(' ')\n",
    "test_news = test_news.fillna(' ')"
   ]
  },
  {
   "cell_type": "code",
   "execution_count": 18,
   "metadata": {
    "execution": {
     "iopub.execute_input": "2023-03-14T18:19:54.564617Z",
     "iopub.status.busy": "2023-03-14T18:19:54.563357Z",
     "iopub.status.idle": "2023-03-14T18:19:54.589398Z",
     "shell.execute_reply": "2023-03-14T18:19:54.588445Z",
     "shell.execute_reply.started": "2023-03-14T18:19:54.564572Z"
    }
   },
   "outputs": [],
   "source": [
    "# merging the author name and news title\n",
    "train_news['content'] = train_news['author']+' '+train_news['title']\n",
    "test_news['content'] = test_news['author']+' '+test_news['title']"
   ]
  },
  {
   "cell_type": "code",
   "execution_count": 19,
   "metadata": {
    "execution": {
     "iopub.execute_input": "2023-03-14T18:19:54.768407Z",
     "iopub.status.busy": "2023-03-14T18:19:54.767384Z",
     "iopub.status.idle": "2023-03-14T18:19:54.775514Z",
     "shell.execute_reply": "2023-03-14T18:19:54.774154Z",
     "shell.execute_reply.started": "2023-03-14T18:19:54.768361Z"
    }
   },
   "outputs": [
    {
     "name": "stdout",
     "output_type": "stream",
     "text": [
      "0        Darrell Lucus House Dem Aide: We Didn’t Even S...\n",
      "1        Daniel J. Flynn FLYNN: Hillary Clinton, Big Wo...\n",
      "2        Consortiumnews.com Why the Truth Might Get You...\n",
      "3        Jessica Purkiss 15 Civilians Killed In Single ...\n",
      "4        Howard Portnoy Iranian woman jailed for fictio...\n",
      "                               ...                        \n",
      "20795    Jerome Hudson Rapper T.I.: Trump a ’Poster Chi...\n",
      "20796    Benjamin Hoffman N.F.L. Playoffs: Schedule, Ma...\n",
      "20797    Michael J. de la Merced and Rachel Abrams Macy...\n",
      "20798    Alex Ansary NATO, Russia To Hold Parallel Exer...\n",
      "20799              David Swanson What Keeps the F-35 Alive\n",
      "Name: content, Length: 20800, dtype: object\n"
     ]
    }
   ],
   "source": [
    "print(train_news['content'])"
   ]
  },
  {
   "cell_type": "code",
   "execution_count": 20,
   "metadata": {
    "execution": {
     "iopub.execute_input": "2023-03-14T18:19:54.960775Z",
     "iopub.status.busy": "2023-03-14T18:19:54.959969Z",
     "iopub.status.idle": "2023-03-14T18:19:54.969849Z",
     "shell.execute_reply": "2023-03-14T18:19:54.968829Z",
     "shell.execute_reply.started": "2023-03-14T18:19:54.96073Z"
    },
    "scrolled": true
   },
   "outputs": [
    {
     "name": "stdout",
     "output_type": "stream",
     "text": [
      "0       David Streitfeld Specter of Trump Loosens Tong...\n",
      "1         Russian warships ready to strike terrorists ...\n",
      "2       Common Dreams #NoDAPL: Native American Leaders...\n",
      "3       Daniel Victor Tim Tebow Will Attempt Another C...\n",
      "4       Truth Broadcast Network Keiser Report: Meme Wa...\n",
      "                              ...                        \n",
      "5195    Jody Rosen The Bangladeshi Traffic Jam That Ne...\n",
      "5196    Sheryl Gay Stolberg John Kasich Signs One Abor...\n",
      "5197    Mike McPhate California Today: What, Exactly, ...\n",
      "5198      300 US Marines To Be Deployed To Russian Bor...\n",
      "5199    Teddy Wayne Awkward Sex, Onscreen and Off - Th...\n",
      "Name: content, Length: 5200, dtype: object\n"
     ]
    }
   ],
   "source": [
    "print(test_news['content'])"
   ]
  },
  {
   "cell_type": "markdown",
   "metadata": {},
   "source": [
    "# Stemming:\n",
    "\n",
    "Stemming is the process of reducing a word to its Root word\n",
    "\n",
    "example:\n",
    "actor, actress, acting --> act"
   ]
  },
  {
   "cell_type": "code",
   "execution_count": 21,
   "metadata": {
    "execution": {
     "iopub.execute_input": "2023-03-14T18:19:55.545629Z",
     "iopub.status.busy": "2023-03-14T18:19:55.544472Z",
     "iopub.status.idle": "2023-03-14T18:19:55.550868Z",
     "shell.execute_reply": "2023-03-14T18:19:55.549481Z",
     "shell.execute_reply.started": "2023-03-14T18:19:55.545587Z"
    }
   },
   "outputs": [],
   "source": [
    "port_stem = PorterStemmer()"
   ]
  },
  {
   "cell_type": "code",
   "execution_count": 22,
   "metadata": {
    "execution": {
     "iopub.execute_input": "2023-03-14T18:19:55.722565Z",
     "iopub.status.busy": "2023-03-14T18:19:55.721823Z",
     "iopub.status.idle": "2023-03-14T18:19:55.729017Z",
     "shell.execute_reply": "2023-03-14T18:19:55.727785Z",
     "shell.execute_reply.started": "2023-03-14T18:19:55.722522Z"
    }
   },
   "outputs": [],
   "source": [
    "def stemming(content):\n",
    "    stemmed_content = re.sub('^a-zA-Z', ' ', content)\n",
    "    stemmed_content = stemmed_content.lower()\n",
    "    stemmed_content = stemmed_content.split()\n",
    "    stemmed_content = [port_stem.stem(word) for word in stemmed_content if not word in stopwords.words('english')]\n",
    "    stemmed_content = ' '.join(stemmed_content)\n",
    "    return stemmed_content"
   ]
  },
  {
   "cell_type": "code",
   "execution_count": 23,
   "metadata": {
    "execution": {
     "iopub.execute_input": "2023-03-14T18:19:55.89093Z",
     "iopub.status.busy": "2023-03-14T18:19:55.890014Z",
     "iopub.status.idle": "2023-03-14T18:20:49.665708Z",
     "shell.execute_reply": "2023-03-14T18:20:49.664565Z",
     "shell.execute_reply.started": "2023-03-14T18:19:55.89088Z"
    }
   },
   "outputs": [],
   "source": [
    "train_news['content'] = train_news['content'].apply(stemming)\n",
    "test_news['content'] = test_news['content'].apply(stemming)\n"
   ]
  },
  {
   "cell_type": "code",
   "execution_count": 24,
   "metadata": {
    "execution": {
     "iopub.execute_input": "2023-03-14T18:20:49.668597Z",
     "iopub.status.busy": "2023-03-14T18:20:49.667892Z",
     "iopub.status.idle": "2023-03-14T18:20:49.675647Z",
     "shell.execute_reply": "2023-03-14T18:20:49.67457Z",
     "shell.execute_reply.started": "2023-03-14T18:20:49.668556Z"
    }
   },
   "outputs": [
    {
     "name": "stdout",
     "output_type": "stream",
     "text": [
      "0        darrel lucu hous dem aide: didn’t even see com...\n",
      "1        daniel j. flynn flynn: hillari clinton, big wo...\n",
      "2                  consortiumnews.com truth might get fire\n",
      "3        jessica purkiss 15 civilian kill singl us airs...\n",
      "4        howard portnoy iranian woman jail fiction unpu...\n",
      "                               ...                        \n",
      "20795    jerom hudson rapper t.i.: trump ’poster child ...\n",
      "20796    benjamin hoffman n.f.l. playoffs: schedule, ma...\n",
      "20797    michael j. de la merc rachel abram macy’ said ...\n",
      "20798    alex ansari nato, russia hold parallel exercis...\n",
      "20799                         david swanson keep f-35 aliv\n",
      "Name: content, Length: 20800, dtype: object\n"
     ]
    }
   ],
   "source": [
    "print(train_news['content'])"
   ]
  },
  {
   "cell_type": "code",
   "execution_count": 25,
   "metadata": {
    "execution": {
     "iopub.execute_input": "2023-03-14T18:20:49.677796Z",
     "iopub.status.busy": "2023-03-14T18:20:49.677133Z",
     "iopub.status.idle": "2023-03-14T18:20:49.690232Z",
     "shell.execute_reply": "2023-03-14T18:20:49.688927Z",
     "shell.execute_reply.started": "2023-03-14T18:20:49.677756Z"
    }
   },
   "outputs": [
    {
     "name": "stdout",
     "output_type": "stream",
     "text": [
      "0       david streitfeld specter trump loosen tongues,...\n",
      "1       russian warship readi strike terrorist near al...\n",
      "2       common dream #nodapl: nativ american leader vo...\n",
      "3       daniel victor tim tebow attempt anoth comeback...\n",
      "4       truth broadcast network keiser report: meme wa...\n",
      "                              ...                        \n",
      "5195    jodi rosen bangladeshi traffic jam never end -...\n",
      "5196    sheryl gay stolberg john kasich sign one abort...\n",
      "5197    mike mcphate california today: what, exactly, ...\n",
      "5198            300 us marin deploy russian border norway\n",
      "5199     teddi wayn awkward sex, onscreen - new york time\n",
      "Name: content, Length: 5200, dtype: object\n"
     ]
    }
   ],
   "source": [
    "print(test_news['content'])"
   ]
  },
  {
   "cell_type": "code",
   "execution_count": 26,
   "metadata": {
    "execution": {
     "iopub.execute_input": "2023-03-14T18:20:49.693813Z",
     "iopub.status.busy": "2023-03-14T18:20:49.693253Z",
     "iopub.status.idle": "2023-03-14T18:20:49.700579Z",
     "shell.execute_reply": "2023-03-14T18:20:49.69947Z",
     "shell.execute_reply.started": "2023-03-14T18:20:49.693772Z"
    }
   },
   "outputs": [],
   "source": [
    "#separating the data and label\n",
    "X = train_news['content'].values\n",
    "Y = train_news['label'].values\n"
   ]
  },
  {
   "cell_type": "code",
   "execution_count": 27,
   "metadata": {
    "execution": {
     "iopub.execute_input": "2023-03-14T18:20:49.70264Z",
     "iopub.status.busy": "2023-03-14T18:20:49.702275Z",
     "iopub.status.idle": "2023-03-14T18:20:49.711209Z",
     "shell.execute_reply": "2023-03-14T18:20:49.710002Z",
     "shell.execute_reply.started": "2023-03-14T18:20:49.702602Z"
    }
   },
   "outputs": [
    {
     "name": "stdout",
     "output_type": "stream",
     "text": [
      "['darrel lucu hous dem aide: didn’t even see comey’ letter jason chaffetz tweet'\n",
      " 'daniel j. flynn flynn: hillari clinton, big woman campu - breitbart'\n",
      " 'consortiumnews.com truth might get fire' ...\n",
      " 'michael j. de la merc rachel abram macy’ said receiv takeov approach hudson’ bay - new york time'\n",
      " 'alex ansari nato, russia hold parallel exercis balkan'\n",
      " 'david swanson keep f-35 aliv']\n"
     ]
    }
   ],
   "source": [
    "print(X)\n"
   ]
  },
  {
   "cell_type": "code",
   "execution_count": 28,
   "metadata": {
    "execution": {
     "iopub.execute_input": "2023-03-14T18:20:49.714271Z",
     "iopub.status.busy": "2023-03-14T18:20:49.712821Z",
     "iopub.status.idle": "2023-03-14T18:20:49.721397Z",
     "shell.execute_reply": "2023-03-14T18:20:49.720198Z",
     "shell.execute_reply.started": "2023-03-14T18:20:49.714232Z"
    }
   },
   "outputs": [
    {
     "name": "stdout",
     "output_type": "stream",
     "text": [
      "[1 0 1 ... 0 1 1]\n"
     ]
    }
   ],
   "source": [
    "print(Y)"
   ]
  },
  {
   "cell_type": "code",
   "execution_count": 29,
   "metadata": {
    "execution": {
     "iopub.execute_input": "2023-03-14T18:20:49.724434Z",
     "iopub.status.busy": "2023-03-14T18:20:49.723987Z",
     "iopub.status.idle": "2023-03-14T18:20:49.731574Z",
     "shell.execute_reply": "2023-03-14T18:20:49.730439Z",
     "shell.execute_reply.started": "2023-03-14T18:20:49.724407Z"
    }
   },
   "outputs": [
    {
     "data": {
      "text/plain": [
       "(20800,)"
      ]
     },
     "execution_count": 29,
     "metadata": {},
     "output_type": "execute_result"
    }
   ],
   "source": [
    "Y.shape"
   ]
  },
  {
   "cell_type": "markdown",
   "metadata": {},
   "source": [
    "# Converting the Textual Data to Numerical Data\n"
   ]
  },
  {
   "cell_type": "code",
   "execution_count": 30,
   "metadata": {
    "execution": {
     "iopub.execute_input": "2023-03-14T18:20:49.734262Z",
     "iopub.status.busy": "2023-03-14T18:20:49.733542Z",
     "iopub.status.idle": "2023-03-14T18:20:50.584999Z",
     "shell.execute_reply": "2023-03-14T18:20:50.583889Z",
     "shell.execute_reply.started": "2023-03-14T18:20:49.734224Z"
    }
   },
   "outputs": [],
   "source": [
    "transformer = TfidfTransformer(smooth_idf=False)\n",
    "count_vectorizer = CountVectorizer(ngram_range=(1, 2))\n",
    "counts = count_vectorizer.fit_transform(train_news['content'].values)\n",
    "X = transformer.fit_transform(counts)"
   ]
  },
  {
   "cell_type": "code",
   "execution_count": 31,
   "metadata": {
    "execution": {
     "iopub.execute_input": "2023-03-14T18:20:50.58722Z",
     "iopub.status.busy": "2023-03-14T18:20:50.586799Z",
     "iopub.status.idle": "2023-03-14T18:20:50.717193Z",
     "shell.execute_reply": "2023-03-14T18:20:50.716105Z",
     "shell.execute_reply.started": "2023-03-14T18:20:50.58718Z"
    }
   },
   "outputs": [],
   "source": [
    "Y = train_news['label'].values\n",
    "test_counts = count_vectorizer.transform(test_news['content'].values)\n",
    "test_tfidf = transformer.fit_transform(test_counts)"
   ]
  },
  {
   "cell_type": "code",
   "execution_count": 32,
   "metadata": {
    "execution": {
     "iopub.execute_input": "2023-03-14T18:20:50.722695Z",
     "iopub.status.busy": "2023-03-14T18:20:50.722376Z",
     "iopub.status.idle": "2023-03-14T18:20:50.734313Z",
     "shell.execute_reply": "2023-03-14T18:20:50.732963Z",
     "shell.execute_reply.started": "2023-03-14T18:20:50.722665Z"
    },
    "scrolled": true
   },
   "outputs": [
    {
     "name": "stdout",
     "output_type": "stream",
     "text": [
      "  (0, 135930)\t0.1588471986018004\n",
      "  (0, 115809)\t0.24793148653615257\n",
      "  (0, 115798)\t0.13747300677495589\n",
      "  (0, 77621)\t0.24793148653615257\n",
      "  (0, 77614)\t0.19576128048469554\n",
      "  (0, 74801)\t0.24793148653615257\n",
      "  (0, 74779)\t0.15593308475506662\n",
      "  (0, 67783)\t0.19814845819564353\n",
      "  (0, 67779)\t0.13210799012659652\n",
      "  (0, 61949)\t0.24793148653615257\n",
      "  (0, 61909)\t0.11915729770198634\n",
      "  (0, 44092)\t0.24793148653615257\n",
      "  (0, 44034)\t0.1243290070746859\n",
      "  (0, 36696)\t0.22303997236589804\n",
      "  (0, 36686)\t0.1597536087737\n",
      "  (0, 35099)\t0.24793148653615257\n",
      "  (0, 35095)\t0.14597825214418647\n",
      "  (0, 33010)\t0.19576128048469554\n",
      "  (0, 33009)\t0.1936018155709678\n",
      "  (0, 27477)\t0.19814845819564353\n",
      "  (0, 27411)\t0.13156850672059786\n",
      "  (0, 22406)\t0.24793148653615257\n",
      "  (0, 22399)\t0.19814845819564353\n",
      "  (0, 4864)\t0.24793148653615257\n",
      "  (0, 4863)\t0.21652189273323433\n",
      "  :\t:\n",
      "  (20797, 2565)\t0.17751269732514657\n",
      "  (20798, 112148)\t0.3171116393668421\n",
      "  (20798, 112039)\t0.13565821442973863\n",
      "  (20798, 94516)\t0.3171116393668421\n",
      "  (20798, 94515)\t0.2852746630508008\n",
      "  (20798, 87374)\t0.29702474374530186\n",
      "  (20798, 87338)\t0.19399337117058932\n",
      "  (20798, 61022)\t0.3171116393668421\n",
      "  (20798, 60986)\t0.1989476024555316\n",
      "  (20798, 44792)\t0.3171116393668421\n",
      "  (20798, 44791)\t0.2568509525022214\n",
      "  (20798, 11805)\t0.27693784812376165\n",
      "  (20798, 7780)\t0.29702474374530186\n",
      "  (20798, 7739)\t0.18905688772617318\n",
      "  (20798, 5478)\t0.18940815584156476\n",
      "  (20798, 5477)\t0.17329205116131682\n",
      "  (20799, 127048)\t0.4330263902498437\n",
      "  (20799, 127042)\t0.3089481722249457\n",
      "  (20799, 69987)\t0.389551950276176\n",
      "  (20799, 69985)\t0.24923790049632386\n",
      "  (20799, 33306)\t0.3233091194528707\n",
      "  (20799, 33241)\t0.20538477686139214\n",
      "  (20799, 5674)\t0.3165086369202432\n",
      "  (20799, 1512)\t0.389551950276176\n",
      "  (20799, 1511)\t0.3233091194528707\n"
     ]
    }
   ],
   "source": [
    "print(X)"
   ]
  },
  {
   "cell_type": "code",
   "execution_count": 33,
   "metadata": {
    "execution": {
     "iopub.execute_input": "2023-03-14T18:20:50.736777Z",
     "iopub.status.busy": "2023-03-14T18:20:50.7359Z",
     "iopub.status.idle": "2023-03-14T18:20:50.743805Z",
     "shell.execute_reply": "2023-03-14T18:20:50.742635Z",
     "shell.execute_reply.started": "2023-03-14T18:20:50.736737Z"
    }
   },
   "outputs": [
    {
     "data": {
      "text/plain": [
       "(20800, 149839)"
      ]
     },
     "execution_count": 33,
     "metadata": {},
     "output_type": "execute_result"
    }
   ],
   "source": [
    "X.shape"
   ]
  },
  {
   "cell_type": "code",
   "execution_count": 34,
   "metadata": {
    "execution": {
     "iopub.execute_input": "2023-03-14T18:20:50.745914Z",
     "iopub.status.busy": "2023-03-14T18:20:50.745476Z",
     "iopub.status.idle": "2023-03-14T18:20:50.753868Z",
     "shell.execute_reply": "2023-03-14T18:20:50.752438Z",
     "shell.execute_reply.started": "2023-03-14T18:20:50.745874Z"
    },
    "scrolled": true
   },
   "outputs": [
    {
     "name": "stdout",
     "output_type": "stream",
     "text": [
      "  (0, 146974)\t0.09183124629402446\n",
      "  (0, 146912)\t0.09159344849469447\n",
      "  (0, 138658)\t0.31361994032847285\n",
      "  (0, 133891)\t0.11556335066394374\n",
      "  (0, 131262)\t0.08973809446727839\n",
      "  (0, 125082)\t0.37176774852019523\n",
      "  (0, 119175)\t0.31922088484910977\n",
      "  (0, 119174)\t0.31922088484910977\n",
      "  (0, 103461)\t0.4008416526160564\n",
      "  (0, 88685)\t0.09159344849469447\n",
      "  (0, 88309)\t0.08864338808734092\n",
      "  (0, 77098)\t0.4008416526160564\n",
      "  (0, 33305)\t0.37176774852019523\n",
      "  (0, 33241)\t0.21352013132269787\n",
      "  (1, 141935)\t0.3197321056732977\n",
      "  (1, 129488)\t0.24220695226346456\n",
      "  (1, 125215)\t0.37398379841863216\n",
      "  (1, 125154)\t0.253017941422062\n",
      "  (1, 112495)\t0.33099034911763164\n",
      "  (1, 112324)\t0.20450347654140066\n",
      "  (1, 105694)\t0.37398379841863216\n",
      "  (1, 105655)\t0.27360623911302084\n",
      "  (1, 87652)\t0.37398379841863216\n",
      "  (1, 87651)\t0.25875516928673514\n",
      "  (1, 5374)\t0.24961280999962987\n",
      "  :\t:\n",
      "  (5197, 81248)\t0.3437050953071142\n",
      "  (5197, 81242)\t0.32881349067825716\n",
      "  (5197, 19649)\t0.3437050953071142\n",
      "  (5197, 19585)\t0.2854637071814326\n",
      "  (5198, 138124)\t0.33805719608963114\n",
      "  (5198, 137976)\t0.18388483916776885\n",
      "  (5198, 112348)\t0.3103521962588264\n",
      "  (5198, 112324)\t0.2088697512011079\n",
      "  (5198, 89921)\t0.3265585822423331\n",
      "  (5198, 79624)\t0.38196858190394256\n",
      "  (5198, 79618)\t0.28264719642802166\n",
      "  (5198, 35763)\t0.2988535824115284\n",
      "  (5198, 16606)\t0.2345245649355333\n",
      "  (5198, 1455)\t0.38196858190394256\n",
      "  (5198, 1439)\t0.2988535824115284\n",
      "  (5199, 146974)\t0.11005056724472459\n",
      "  (5199, 146912)\t0.10976559035764172\n",
      "  (5199, 142492)\t0.4106843094497719\n",
      "  (5199, 131262)\t0.10754213405712311\n",
      "  (5199, 117122)\t0.33507941973315636\n",
      "  (5199, 92439)\t0.4803686438542903\n",
      "  (5199, 92438)\t0.4803686438542903\n",
      "  (5199, 88685)\t0.10976559035764172\n",
      "  (5199, 88309)\t0.1062302379113079\n",
      "  (5199, 11082)\t0.4455264766520311\n"
     ]
    }
   ],
   "source": [
    "print(test_tfidf)"
   ]
  },
  {
   "cell_type": "code",
   "execution_count": 35,
   "metadata": {
    "execution": {
     "iopub.execute_input": "2023-03-14T18:20:50.756341Z",
     "iopub.status.busy": "2023-03-14T18:20:50.755703Z",
     "iopub.status.idle": "2023-03-14T18:20:50.764928Z",
     "shell.execute_reply": "2023-03-14T18:20:50.763868Z",
     "shell.execute_reply.started": "2023-03-14T18:20:50.756304Z"
    }
   },
   "outputs": [
    {
     "data": {
      "text/plain": [
       "(5200, 149839)"
      ]
     },
     "execution_count": 35,
     "metadata": {},
     "output_type": "execute_result"
    }
   ],
   "source": [
    "test_tfidf.shape"
   ]
  },
  {
   "cell_type": "markdown",
   "metadata": {},
   "source": [
    "# Spliting the data into training and testing data\n"
   ]
  },
  {
   "cell_type": "code",
   "execution_count": 36,
   "metadata": {
    "execution": {
     "iopub.execute_input": "2023-03-14T18:20:50.767337Z",
     "iopub.status.busy": "2023-03-14T18:20:50.766291Z",
     "iopub.status.idle": "2023-03-14T18:20:50.789703Z",
     "shell.execute_reply": "2023-03-14T18:20:50.788627Z",
     "shell.execute_reply.started": "2023-03-14T18:20:50.767295Z"
    }
   },
   "outputs": [],
   "source": [
    "X_train, X_test, Y_train, Y_test = train_test_split(X, Y, test_size = 0.2, stratify=Y, random_state=42)"
   ]
  },
  {
   "cell_type": "code",
   "execution_count": 37,
   "metadata": {
    "execution": {
     "iopub.execute_input": "2023-03-14T18:20:50.792182Z",
     "iopub.status.busy": "2023-03-14T18:20:50.791138Z",
     "iopub.status.idle": "2023-03-14T18:20:50.798202Z",
     "shell.execute_reply": "2023-03-14T18:20:50.797095Z",
     "shell.execute_reply.started": "2023-03-14T18:20:50.792142Z"
    }
   },
   "outputs": [
    {
     "name": "stdout",
     "output_type": "stream",
     "text": [
      "Number of Training dataset: 16640\n",
      "Number of Testing dataset: 4160\n"
     ]
    }
   ],
   "source": [
    "print(f\"Number of Training dataset: {X_train.shape[0]}\\nNumber of Testing dataset: {X_test.shape[0]}\")\n"
   ]
  },
  {
   "cell_type": "code",
   "execution_count": 38,
   "metadata": {
    "execution": {
     "iopub.execute_input": "2023-03-14T18:20:50.800514Z",
     "iopub.status.busy": "2023-03-14T18:20:50.799596Z",
     "iopub.status.idle": "2023-03-14T18:20:50.812215Z",
     "shell.execute_reply": "2023-03-14T18:20:50.811358Z",
     "shell.execute_reply.started": "2023-03-14T18:20:50.800478Z"
    }
   },
   "outputs": [],
   "source": [
    "def kfolds(model, model_name):\n",
    "    model = cross_val_score(model, X,Y, cv=10)\n",
    "    model_score = np.average(model)\n",
    "    print(f\"{model_name} score on cross validation: {model_score * 100}%\")\n",
    "\n",
    "def train(model, model_name):\n",
    "    model.fit(X_train, Y_train)\n",
    "    model_train_score = model.score(X_train, Y_train)\n",
    "    model_test_score = model.score(X_test, Y_test)\n",
    "    print(f\"{model_name} model score on Training data: {model_train_score * 100}%\\n{model_name} model score on Testing data: {model_test_score * 100}%\")\n",
    "\n",
    "def conf_matrix(model):\n",
    "    Y_pred = model.predict(X_test)\n",
    "    cm = confusion_matrix(Y_test, Y_pred)\n",
    "    plt.figure(figsize=(8,5))\n",
    "    sns.heatmap(cm, annot=True, fmt='.2f');\n",
    "    \n",
    "def class_report(model):\n",
    "    Y_pred = model.predict(X_test)\n",
    "    print(classification_report(Y_test, Y_pred))\n",
    "    \n",
    "def roc(model, model_name):\n",
    "    Y_pred_svm = model.decision_function(X_test)\n",
    "    svm_fpr, svm_tpr, _ = roc_curve(Y_test, Y_pred_svm)\n",
    "    auc_svm = auc(svm_fpr, svm_tpr)\n",
    "    plt.figure(figsize=(5, 5), dpi=100)\n",
    "    plt.plot(svm_fpr, svm_tpr, color=\"darkorange\", label=f'{model_name} (auc = %0.3f)' % auc_svm)\n",
    "    plt.plot([0, 1], [0, 1], color=\"navy\", lw=2, linestyle=\"--\")\n",
    "    plt.xlabel('False Positive Rate -->')\n",
    "    plt.ylabel('True Positive Rate -->')\n",
    "    plt.legend()\n",
    "    plt.show()"
   ]
  },
  {
   "cell_type": "markdown",
   "metadata": {},
   "source": [
    "# Logistic Regression\n"
   ]
  },
  {
   "cell_type": "code",
   "execution_count": 39,
   "metadata": {
    "execution": {
     "iopub.execute_input": "2023-03-14T18:20:50.814479Z",
     "iopub.status.busy": "2023-03-14T18:20:50.813388Z",
     "iopub.status.idle": "2023-03-14T18:20:53.13423Z",
     "shell.execute_reply": "2023-03-14T18:20:53.133097Z",
     "shell.execute_reply.started": "2023-03-14T18:20:50.81444Z"
    }
   },
   "outputs": [
    {
     "name": "stdout",
     "output_type": "stream",
     "text": [
      "Logistic Regression model score on Training data: 99.0264423076923%\n",
      "Logistic Regression model score on Testing data: 96.70673076923076%\n"
     ]
    }
   ],
   "source": [
    "log_model = LogisticRegression()\n",
    "train(log_model, \"Logistic Regression\")"
   ]
  },
  {
   "cell_type": "code",
   "execution_count": 40,
   "metadata": {
    "execution": {
     "iopub.execute_input": "2023-03-14T18:20:53.136824Z",
     "iopub.status.busy": "2023-03-14T18:20:53.136022Z",
     "iopub.status.idle": "2023-03-14T18:20:53.571277Z",
     "shell.execute_reply": "2023-03-14T18:20:53.57013Z",
     "shell.execute_reply.started": "2023-03-14T18:20:53.136781Z"
    }
   },
   "outputs": [
    {
     "data": {
      "image/png": "[encoded data removed]",
      "text/plain": [
       "<Figure size 800x500 with 2 Axes>"
      ]
     },
     "metadata": {},
     "output_type": "display_data"
    }
   ],
   "source": [
    "conf_matrix(log_model)"
   ]
  },
  {
   "cell_type": "code",
   "execution_count": 41,
   "metadata": {
    "execution": {
     "iopub.execute_input": "2023-03-14T18:20:53.576616Z",
     "iopub.status.busy": "2023-03-14T18:20:53.575527Z",
     "iopub.status.idle": "2023-03-14T18:20:53.603632Z",
     "shell.execute_reply": "2023-03-14T18:20:53.602526Z",
     "shell.execute_reply.started": "2023-03-14T18:20:53.576575Z"
    }
   },
   "outputs": [
    {
     "name": "stdout",
     "output_type": "stream",
     "text": [
      "              precision    recall  f1-score   support\n",
      "\n",
      "           0       0.99      0.94      0.97      2077\n",
      "           1       0.94      0.99      0.97      2083\n",
      "\n",
      "    accuracy                           0.97      4160\n",
      "   macro avg       0.97      0.97      0.97      4160\n",
      "weighted avg       0.97      0.97      0.97      4160\n",
      "\n"
     ]
    }
   ],
   "source": [
    "class_report(log_model)"
   ]
  },
  {
   "cell_type": "code",
   "execution_count": 42,
   "metadata": {
    "execution": {
     "iopub.execute_input": "2023-03-14T18:20:53.611413Z",
     "iopub.status.busy": "2023-03-14T18:20:53.608646Z",
     "iopub.status.idle": "2023-03-14T18:20:53.911774Z",
     "shell.execute_reply": "2023-03-14T18:20:53.910729Z",
     "shell.execute_reply.started": "2023-03-14T18:20:53.611367Z"
    }
   },
   "outputs": [
    {
     "data": {
      "image/png": "[encoded data removed]",
      "text/plain": [
       "<Figure size 500x500 with 1 Axes>"
      ]
     },
     "metadata": {},
     "output_type": "display_data"
    }
   ],
   "source": [
    "roc(log_model, 'Logistic_Regression')"
   ]
  },
  {
   "cell_type": "markdown",
   "metadata": {},
   "source": [
    "# SVM Model¶\n"
   ]
  },
  {
   "cell_type": "code",
   "execution_count": 51,
   "metadata": {
    "execution": {
     "iopub.execute_input": "2023-03-14T18:20:53.918767Z",
     "iopub.status.busy": "2023-03-14T18:20:53.915239Z",
     "iopub.status.idle": "2023-03-14T18:23:09.010867Z",
     "shell.execute_reply": "2023-03-14T18:23:09.009759Z",
     "shell.execute_reply.started": "2023-03-14T18:20:53.918728Z"
    }
   },
   "outputs": [
    {
     "name": "stdout",
     "output_type": "stream",
     "text": [
      "SV_classifier model score on Training data: 99.97596153846153%\n",
      "SV_classifier model score on Testing data: 98.02884615384615%\n"
     ]
    }
   ],
   "source": [
    "svm_model = SVC()\n",
    "train(svm_model, 'SV_classifier')"
   ]
  },
  {
   "cell_type": "code",
   "execution_count": 44,
   "metadata": {
    "execution": {
     "iopub.execute_input": "2023-03-14T18:23:09.013031Z",
     "iopub.status.busy": "2023-03-14T18:23:09.012361Z",
     "iopub.status.idle": "2023-03-14T18:23:16.557079Z",
     "shell.execute_reply": "2023-03-14T18:23:16.556084Z",
     "shell.execute_reply.started": "2023-03-14T18:23:09.012991Z"
    }
   },
   "outputs": [
    {
     "data": {
      "image/png": "[encoded data removed]",
      "text/plain": [
       "<Figure size 800x500 with 2 Axes>"
      ]
     },
     "metadata": {},
     "output_type": "display_data"
    }
   ],
   "source": [
    "conf_matrix(svm_model)\n"
   ]
  },
  {
   "cell_type": "code",
   "execution_count": 45,
   "metadata": {
    "execution": {
     "iopub.execute_input": "2023-03-14T18:23:16.559136Z",
     "iopub.status.busy": "2023-03-14T18:23:16.558738Z",
     "iopub.status.idle": "2023-03-14T18:23:23.800128Z",
     "shell.execute_reply": "2023-03-14T18:23:23.7987Z",
     "shell.execute_reply.started": "2023-03-14T18:23:16.559096Z"
    }
   },
   "outputs": [
    {
     "name": "stdout",
     "output_type": "stream",
     "text": [
      "              precision    recall  f1-score   support\n",
      "\n",
      "           0       0.99      0.97      0.98      2077\n",
      "           1       0.97      0.99      0.98      2083\n",
      "\n",
      "    accuracy                           0.98      4160\n",
      "   macro avg       0.98      0.98      0.98      4160\n",
      "weighted avg       0.98      0.98      0.98      4160\n",
      "\n"
     ]
    }
   ],
   "source": [
    "class_report(svm_model)"
   ]
  },
  {
   "cell_type": "code",
   "execution_count": 46,
   "metadata": {
    "execution": {
     "iopub.execute_input": "2023-03-14T18:23:23.80261Z",
     "iopub.status.busy": "2023-03-14T18:23:23.801644Z",
     "iopub.status.idle": "2023-03-14T18:23:31.101003Z",
     "shell.execute_reply": "2023-03-14T18:23:31.099991Z",
     "shell.execute_reply.started": "2023-03-14T18:23:23.802565Z"
    }
   },
   "outputs": [
    {
     "data": {
      "image/png": "[encoded data removed]",
      "text/plain": [
       "<Figure size 500x500 with 1 Axes>"
      ]
     },
     "metadata": {},
     "output_type": "display_data"
    }
   ],
   "source": [
    "roc(svm_model, 'SV_classifier')"
   ]
  },
  {
   "cell_type": "markdown",
   "metadata": {},
   "source": [
    "# Decision Tree Classifier Model¶\n"
   ]
  },
  {
   "cell_type": "code",
   "execution_count": 47,
   "metadata": {
    "execution": {
     "iopub.execute_input": "2023-03-14T18:23:31.10527Z",
     "iopub.status.busy": "2023-03-14T18:23:31.102433Z",
     "iopub.status.idle": "2023-03-14T18:24:24.066787Z",
     "shell.execute_reply": "2023-03-14T18:24:24.065464Z",
     "shell.execute_reply.started": "2023-03-14T18:23:31.105238Z"
    }
   },
   "outputs": [
    {
     "name": "stdout",
     "output_type": "stream",
     "text": [
      "Decision_Tree score on cross validation: 99.58173076923077%\n",
      "Decision_Tree model score on Training data: 100.0%\n",
      "Decision_Tree model score on Testing data: 99.44711538461539%\n"
     ]
    }
   ],
   "source": [
    "dt_model = DecisionTreeClassifier()\n",
    "kfolds(dt_model, \"Decision_Tree\")\n",
    "train(dt_model, \"Decision_Tree\")"
   ]
  },
  {
   "cell_type": "code",
   "execution_count": 48,
   "metadata": {
    "execution": {
     "iopub.execute_input": "2023-03-14T18:24:24.069526Z",
     "iopub.status.busy": "2023-03-14T18:24:24.068336Z",
     "iopub.status.idle": "2023-03-14T18:24:24.330981Z",
     "shell.execute_reply": "2023-03-14T18:24:24.330015Z",
     "shell.execute_reply.started": "2023-03-14T18:24:24.069486Z"
    }
   },
   "outputs": [
    {
     "data": {
      "image/png": "[encoded data removed]",
      "text/plain": [
       "<Figure size 800x500 with 2 Axes>"
      ]
     },
     "metadata": {},
     "output_type": "display_data"
    }
   ],
   "source": [
    "conf_matrix(dt_model)\n"
   ]
  },
  {
   "cell_type": "code",
   "execution_count": 49,
   "metadata": {
    "execution": {
     "iopub.execute_input": "2023-03-14T18:24:24.333817Z",
     "iopub.status.busy": "2023-03-14T18:24:24.333084Z",
     "iopub.status.idle": "2023-03-14T18:24:24.350451Z",
     "shell.execute_reply": "2023-03-14T18:24:24.349335Z",
     "shell.execute_reply.started": "2023-03-14T18:24:24.333776Z"
    }
   },
   "outputs": [
    {
     "name": "stdout",
     "output_type": "stream",
     "text": [
      "              precision    recall  f1-score   support\n",
      "\n",
      "           0       1.00      0.99      0.99      2077\n",
      "           1       0.99      1.00      0.99      2083\n",
      "\n",
      "    accuracy                           0.99      4160\n",
      "   macro avg       0.99      0.99      0.99      4160\n",
      "weighted avg       0.99      0.99      0.99      4160\n",
      "\n"
     ]
    }
   ],
   "source": [
    "class_report(dt_model)\n"
   ]
  },
  {
   "cell_type": "markdown",
   "metadata": {},
   "source": [
    "# Random Forest Classifier¶\n"
   ]
  },
  {
   "cell_type": "code",
   "execution_count": 52,
   "metadata": {
    "execution": {
     "iopub.execute_input": "2023-03-14T18:24:24.356883Z",
     "iopub.status.busy": "2023-03-14T18:24:24.356232Z",
     "iopub.status.idle": "2023-03-14T18:25:42.793268Z",
     "shell.execute_reply": "2023-03-14T18:25:42.79134Z",
     "shell.execute_reply.started": "2023-03-14T18:24:24.356843Z"
    }
   },
   "outputs": [
    {
     "name": "stdout",
     "output_type": "stream",
     "text": [
      "Random_Forest model score on Training data: 100.0%\n",
      "Random_Forest model score on Testing data: 99.2548076923077%\n"
     ]
    }
   ],
   "source": [
    "rf_model = RandomForestClassifier()\n",
    "train(rf_model, \"Random_Forest\")"
   ]
  },
  {
   "cell_type": "code",
   "execution_count": 53,
   "metadata": {
    "execution": {
     "iopub.execute_input": "2023-03-14T18:25:42.795027Z",
     "iopub.status.busy": "2023-03-14T18:25:42.794643Z",
     "iopub.status.idle": "2023-03-14T18:25:43.388166Z",
     "shell.execute_reply": "2023-03-14T18:25:43.387028Z",
     "shell.execute_reply.started": "2023-03-14T18:25:42.794986Z"
    }
   },
   "outputs": [
    {
     "data": {
      "image/png": "[encoded data removed]",
      "text/plain": [
       "<Figure size 800x500 with 2 Axes>"
      ]
     },
     "metadata": {},
     "output_type": "display_data"
    }
   ],
   "source": [
    "conf_matrix(rf_model)\n"
   ]
  },
  {
   "cell_type": "code",
   "execution_count": 54,
   "metadata": {
    "execution": {
     "iopub.execute_input": "2023-03-14T18:25:43.390408Z",
     "iopub.status.busy": "2023-03-14T18:25:43.389507Z",
     "iopub.status.idle": "2023-03-14T18:25:43.745005Z",
     "shell.execute_reply": "2023-03-14T18:25:43.743898Z",
     "shell.execute_reply.started": "2023-03-14T18:25:43.390368Z"
    }
   },
   "outputs": [
    {
     "name": "stdout",
     "output_type": "stream",
     "text": [
      "              precision    recall  f1-score   support\n",
      "\n",
      "           0       1.00      0.99      0.99      2077\n",
      "           1       0.99      1.00      0.99      2083\n",
      "\n",
      "    accuracy                           0.99      4160\n",
      "   macro avg       0.99      0.99      0.99      4160\n",
      "weighted avg       0.99      0.99      0.99      4160\n",
      "\n"
     ]
    }
   ],
   "source": [
    "class_report(rf_model)\n"
   ]
  },
  {
   "cell_type": "markdown",
   "metadata": {},
   "source": [
    "# K-nearest neighbors"
   ]
  },
  {
   "cell_type": "code",
   "execution_count": 55,
   "metadata": {
    "execution": {
     "iopub.execute_input": "2023-03-14T18:25:43.747035Z",
     "iopub.status.busy": "2023-03-14T18:25:43.746411Z",
     "iopub.status.idle": "2023-03-14T18:25:53.883169Z",
     "shell.execute_reply": "2023-03-14T18:25:53.88203Z",
     "shell.execute_reply.started": "2023-03-14T18:25:43.746996Z"
    }
   },
   "outputs": [
    {
     "name": "stdout",
     "output_type": "stream",
     "text": [
      "KNN model score on Training data: 96.53846153846153%\n",
      "KNN model score on Testing data: 94.5673076923077%\n"
     ]
    }
   ],
   "source": [
    "knn = KNeighborsClassifier()\n",
    "train(knn, \"KNN\")"
   ]
  },
  {
   "cell_type": "code",
   "execution_count": 56,
   "metadata": {
    "execution": {
     "iopub.execute_input": "2023-03-14T18:25:53.885354Z",
     "iopub.status.busy": "2023-03-14T18:25:53.884672Z",
     "iopub.status.idle": "2023-03-14T18:25:56.303999Z",
     "shell.execute_reply": "2023-03-14T18:25:56.302976Z",
     "shell.execute_reply.started": "2023-03-14T18:25:53.885314Z"
    }
   },
   "outputs": [
    {
     "data": {
      "image/png": "[encoded data removed]",
      "text/plain": [
       "<Figure size 800x500 with 2 Axes>"
      ]
     },
     "metadata": {},
     "output_type": "display_data"
    }
   ],
   "source": [
    "conf_matrix(knn)\n"
   ]
  },
  {
   "cell_type": "code",
   "execution_count": 57,
   "metadata": {
    "execution": {
     "iopub.execute_input": "2023-03-14T18:25:56.306553Z",
     "iopub.status.busy": "2023-03-14T18:25:56.305801Z",
     "iopub.status.idle": "2023-03-14T18:25:58.299268Z",
     "shell.execute_reply": "2023-03-14T18:25:58.297969Z",
     "shell.execute_reply.started": "2023-03-14T18:25:56.306512Z"
    }
   },
   "outputs": [
    {
     "name": "stdout",
     "output_type": "stream",
     "text": [
      "              precision    recall  f1-score   support\n",
      "\n",
      "           0       0.93      0.96      0.95      2077\n",
      "           1       0.96      0.93      0.94      2083\n",
      "\n",
      "    accuracy                           0.95      4160\n",
      "   macro avg       0.95      0.95      0.95      4160\n",
      "weighted avg       0.95      0.95      0.95      4160\n",
      "\n"
     ]
    }
   ],
   "source": [
    "class_report(knn)\n"
   ]
  },
  {
   "cell_type": "markdown",
   "metadata": {},
   "source": [
    "# Naive Bayes\n"
   ]
  },
  {
   "cell_type": "code",
   "execution_count": 58,
   "metadata": {
    "execution": {
     "iopub.execute_input": "2023-03-14T18:25:58.301899Z",
     "iopub.status.busy": "2023-03-14T18:25:58.301099Z",
     "iopub.status.idle": "2023-03-14T18:25:58.45335Z",
     "shell.execute_reply": "2023-03-14T18:25:58.452114Z",
     "shell.execute_reply.started": "2023-03-14T18:25:58.301855Z"
    }
   },
   "outputs": [
    {
     "name": "stdout",
     "output_type": "stream",
     "text": [
      "Naive_Bayes score on cross validation: 96.46634615384617%\n",
      "Naive_Bayes model score on Training data: 99.65745192307692%\n",
      "Naive_Bayes model score on Testing data: 96.49038461538461%\n"
     ]
    }
   ],
   "source": [
    "naive_bayes = MultinomialNB()\n",
    "kfolds(naive_bayes, \"Naive_Bayes\")\n",
    "train(naive_bayes, \"Naive_Bayes\")"
   ]
  },
  {
   "cell_type": "code",
   "execution_count": 59,
   "metadata": {
    "execution": {
     "iopub.execute_input": "2023-03-14T18:25:58.455992Z",
     "iopub.status.busy": "2023-03-14T18:25:58.45477Z",
     "iopub.status.idle": "2023-03-14T18:25:58.721086Z",
     "shell.execute_reply": "2023-03-14T18:25:58.720091Z",
     "shell.execute_reply.started": "2023-03-14T18:25:58.455951Z"
    }
   },
   "outputs": [
    {
     "data": {
      "image/png": "[encoded data removed]",
      "text/plain": [
       "<Figure size 800x500 with 2 Axes>"
      ]
     },
     "metadata": {},
     "output_type": "display_data"
    }
   ],
   "source": [
    "conf_matrix(naive_bayes)\n"
   ]
  },
  {
   "cell_type": "code",
   "execution_count": 60,
   "metadata": {
    "execution": {
     "iopub.execute_input": "2023-03-14T18:27:20.844004Z",
     "iopub.status.busy": "2023-03-14T18:27:20.842953Z",
     "iopub.status.idle": "2023-03-14T18:27:20.862691Z",
     "shell.execute_reply": "2023-03-14T18:27:20.86159Z",
     "shell.execute_reply.started": "2023-03-14T18:27:20.843963Z"
    }
   },
   "outputs": [
    {
     "name": "stdout",
     "output_type": "stream",
     "text": [
      "              precision    recall  f1-score   support\n",
      "\n",
      "           0       0.94      1.00      0.97      2077\n",
      "           1       1.00      0.93      0.96      2083\n",
      "\n",
      "    accuracy                           0.96      4160\n",
      "   macro avg       0.97      0.96      0.96      4160\n",
      "weighted avg       0.97      0.96      0.96      4160\n",
      "\n"
     ]
    }
   ],
   "source": [
    "class_report(naive_bayes)\n"
   ]
  },
  {
   "cell_type": "markdown",
   "metadata": {},
   "source": [
    "# Automated ML\n"
   ]
  },
  {
   "cell_type": "code",
   "execution_count": null,
   "metadata": {},
   "outputs": [
    {
     "name": "stdout",
     "output_type": "stream",
     "text": [
      "Optimization Progress:   3%|▎         | 64/2200 [1:20:48<52:40:37, 88.78s/pipeline]  "
     ]
    }
   ],
   "source": [
    "autoML = TPOTClassifier(generations=10, population_size=200, cv=20, verbosity=2, config_dict = 'TPOT sparse')\n",
    "train(autoML, \"Automated ML\")\n"
   ]
  },
  {
   "cell_type": "code",
   "execution_count": null,
   "metadata": {},
   "outputs": [],
   "source": [
    "conf_matrix(autoML)\n"
   ]
  },
  {
   "cell_type": "code",
   "execution_count": null,
   "metadata": {},
   "outputs": [],
   "source": [
    "class_report(autoML)\n"
   ]
  },
  {
   "cell_type": "code",
   "execution_count": null,
   "metadata": {},
   "outputs": [],
   "source": [
    "tp(autoML, \"Automated Machine Learning\")\n"
   ]
  },
  {
   "cell_type": "markdown",
   "metadata": {},
   "source": [
    "# Making Predictions\n",
    "\n"
   ]
  },
  {
   "cell_type": "markdown",
   "metadata": {},
   "source": [
    "### Logistic Regression Prediction\n",
    "\n",
    "\n",
    "\n"
   ]
  },
  {
   "cell_type": "code",
   "execution_count": null,
   "metadata": {
    "execution": {
     "iopub.execute_input": "2023-03-14T18:25:58.73264Z",
     "iopub.status.busy": "2023-03-14T18:25:58.731927Z",
     "iopub.status.idle": "2023-03-14T18:25:58.741302Z",
     "shell.execute_reply": "2023-03-14T18:25:58.740533Z",
     "shell.execute_reply.started": "2023-03-14T18:25:58.732598Z"
    }
   },
   "outputs": [],
   "source": [
    "# Make predictions --> Logistic Regression\n",
    "predictions = log_model.predict(test_tfidf)\n",
    "# Submissions\n",
    "test_ID = test_news.id\n",
    "submission = pd.DataFrame({'id' : test_ID, 'label' : predictions})"
   ]
  },
  {
   "cell_type": "markdown",
   "metadata": {},
   "source": [
    "- The submission file will consist of the ID column and a label column. We can just copy the ID column from the test file, make it a dataframe, and then add our label column.\n",
    "\n"
   ]
  },
  {
   "cell_type": "code",
   "execution_count": null,
   "metadata": {
    "execution": {
     "iopub.execute_input": "2023-03-14T18:25:58.743473Z",
     "iopub.status.busy": "2023-03-14T18:25:58.742452Z",
     "iopub.status.idle": "2023-03-14T18:25:58.751628Z",
     "shell.execute_reply": "2023-03-14T18:25:58.75084Z",
     "shell.execute_reply.started": "2023-03-14T18:25:58.743434Z"
    }
   },
   "outputs": [],
   "source": [
    "# submission = test_news.id.copy().to_frame()\n",
    "# submission['prediction'] = predictions"
   ]
  },
  {
   "cell_type": "code",
   "execution_count": null,
   "metadata": {
    "execution": {
     "iopub.execute_input": "2023-03-14T18:25:58.755283Z",
     "iopub.status.busy": "2023-03-14T18:25:58.752777Z",
     "iopub.status.idle": "2023-03-14T18:25:58.768479Z",
     "shell.execute_reply": "2023-03-14T18:25:58.767485Z",
     "shell.execute_reply.started": "2023-03-14T18:25:58.755244Z"
    }
   },
   "outputs": [],
   "source": [
    "submission.head()\n"
   ]
  },
  {
   "cell_type": "code",
   "execution_count": null,
   "metadata": {
    "execution": {
     "iopub.execute_input": "2023-03-14T18:25:58.770361Z",
     "iopub.status.busy": "2023-03-14T18:25:58.769967Z",
     "iopub.status.idle": "2023-03-14T18:25:58.786677Z",
     "shell.execute_reply": "2023-03-14T18:25:58.785773Z",
     "shell.execute_reply.started": "2023-03-14T18:25:58.770333Z"
    }
   },
   "outputs": [],
   "source": [
    "submission.to_csv(\"./Logistic Regression.csv\", index=False) # Convert the submissions to .csv\n"
   ]
  },
  {
   "cell_type": "markdown",
   "metadata": {},
   "source": [
    "### dt Prediction\n",
    "\n"
   ]
  },
  {
   "cell_type": "code",
   "execution_count": null,
   "metadata": {
    "execution": {
     "iopub.execute_input": "2023-03-14T18:25:58.789948Z",
     "iopub.status.busy": "2023-03-14T18:25:58.789688Z",
     "iopub.status.idle": "2023-03-14T18:25:58.798741Z",
     "shell.execute_reply": "2023-03-14T18:25:58.79763Z",
     "shell.execute_reply.started": "2023-03-14T18:25:58.789923Z"
    }
   },
   "outputs": [],
   "source": [
    "# Make predictions --> \n",
    "predictions = dt_model.predict(test_tfidf)\n",
    "# Submissions\n",
    "test_ID = test_news.id\n",
    "dt_submission = pd.DataFrame({'id' : test_ID, 'label' : predictions})"
   ]
  },
  {
   "cell_type": "code",
   "execution_count": null,
   "metadata": {
    "execution": {
     "iopub.execute_input": "2023-03-14T18:25:58.800806Z",
     "iopub.status.busy": "2023-03-14T18:25:58.800193Z",
     "iopub.status.idle": "2023-03-14T18:25:58.812604Z",
     "shell.execute_reply": "2023-03-14T18:25:58.81096Z",
     "shell.execute_reply.started": "2023-03-14T18:25:58.800768Z"
    }
   },
   "outputs": [],
   "source": [
    "\n",
    "dt_submission.head()\n"
   ]
  },
  {
   "cell_type": "code",
   "execution_count": null,
   "metadata": {
    "execution": {
     "iopub.execute_input": "2023-03-14T18:25:58.816615Z",
     "iopub.status.busy": "2023-03-14T18:25:58.815859Z",
     "iopub.status.idle": "2023-03-14T18:25:58.82922Z",
     "shell.execute_reply": "2023-03-14T18:25:58.828159Z",
     "shell.execute_reply.started": "2023-03-14T18:25:58.816576Z"
    }
   },
   "outputs": [],
   "source": [
    "dt_submission.to_csv(\"./Decision Tree.csv\", index=False) # Convert the submissions to .csv\n"
   ]
  },
  {
   "cell_type": "code",
   "execution_count": null,
   "metadata": {},
   "outputs": [],
   "source": []
  }
 ],
 "metadata": {
  "kaggle": {
   "accelerator": "gpu",
   "dataSources": [
    {
     "datasetId": 3001710,
     "sourceId": 5165070,
     "sourceType": "datasetVersion"
    }
   ],
   "dockerImageVersionId": 30408,
   "isGpuEnabled": true,
   "isInternetEnabled": true,
   "language": "python",
   "sourceType": "notebook"
  },
  "kernelspec": {
   "display_name": "Python 3 (ipykernel)",
   "language": "python",
   "name": "python3"
  },
  "language_info": {
   "codemirror_mode": {
    "name": "ipython",
    "version": 3
   },
   "file_extension": ".py",
   "mimetype": "text/x-python",
   "name": "python",
   "nbconvert_exporter": "python",
   "pygments_lexer": "ipython3",
   "version": "3.11.5"
  }
 },
 "nbformat": 4,
 "nbformat_minor": 4
}
